{
 "cells": [
  {
   "cell_type": "code",
   "execution_count": 11,
   "metadata": {},
   "outputs": [],
   "source": [
    "import pandas as pd\n",
    "import numpy as np\n",
    "import random\n",
    "\n",
    "\n",
    "df = pd.read_csv('~/Documents/MooreLab/breastCancer29.csv', sep=',', dtype=np.float64)\n",
    "\n",
    "random.seed(42)\n",
    "list = random.sample(range(1,100000), 2504)\n",
    "\n",
    "\n",
    "#2504 total items\n",
    "extra_col = pd.Series(list)\n",
    "\n",
    "df.insert(0,'patient_id', extra_col.values)\n",
    "df_id = df.drop('phenotype', axis=1)\n",
    "\n"
   ]
  },
  {
   "cell_type": "code",
   "execution_count": 171,
   "metadata": {},
   "outputs": [
    {
     "data": {
      "text/html": [
       "<div>\n",
       "<style scoped>\n",
       "    .dataframe tbody tr th:only-of-type {\n",
       "        vertical-align: middle;\n",
       "    }\n",
       "\n",
       "    .dataframe tbody tr th {\n",
       "        vertical-align: top;\n",
       "    }\n",
       "\n",
       "    .dataframe thead th {\n",
       "        text-align: right;\n",
       "    }\n",
       "</style>\n",
       "<table border=\"1\" class=\"dataframe\">\n",
       "  <thead>\n",
       "    <tr style=\"text-align: right;\">\n",
       "      <th></th>\n",
       "      <th>Participant Idx</th>\n",
       "      <th>Original Prob.</th>\n",
       "      <th>Best Possible Prob.</th>\n",
       "      <th>Risk Decrease</th>\n",
       "      <th>SNP Name</th>\n",
       "      <th>Ori. SNP Value</th>\n",
       "      <th>New SNP Value</th>\n",
       "    </tr>\n",
       "  </thead>\n",
       "  <tbody>\n",
       "    <tr>\n",
       "      <th>0</th>\n",
       "      <td>1221</td>\n",
       "      <td>0.399632</td>\n",
       "      <td>0.374337</td>\n",
       "      <td>0.0252943</td>\n",
       "      <td>rs1011970</td>\n",
       "      <td>0</td>\n",
       "      <td>2</td>\n",
       "    </tr>\n",
       "  </tbody>\n",
       "</table>\n",
       "</div>"
      ],
      "text/plain": [
       "  Participant Idx Original Prob. Best Possible Prob. Risk Decrease   SNP Name  \\\n",
       "0            1221       0.399632            0.374337     0.0252943  rs1011970   \n",
       "\n",
       "  Ori. SNP Value New SNP Value  \n",
       "0              0             2  "
      ]
     },
     "execution_count": 171,
     "metadata": {},
     "output_type": "execute_result"
    }
   ],
   "source": [
    "import pandas as pd\n",
    "import numpy as np\n",
    "from sklearn.ensemble import ExtraTreesClassifier\n",
    "from sklearn.model_selection import train_test_split\n",
    "\n",
    "\n",
    "df2 = pd.read_csv('finalBCdata.csv')\n",
    "df2_id = df2.drop('phenotype', axis=1)\n",
    "features = df2_id.drop('patient_id', axis=1).values\n",
    "\n",
    "training_features, testing_features, training_target, testing_target = \\\n",
    "            train_test_split(features, df2['phenotype'].values, random_state=42)\n",
    "\n",
    "exported_pipeline = ExtraTreesClassifier(bootstrap=False, random_state = 42, criterion=\"entropy\", max_features=0.1, min_samples_leaf=18, min_samples_split=20, n_estimators=100)\n",
    "exported_pipeline.fit(training_features, training_target)\n",
    "\n",
    "\n",
    "\n",
    "SNP_names = df2.columns.values.tolist()[1:-1]\n",
    "n_snps = len(SNP_names)\n",
    "\n",
    "all_info = []\n",
    "x_row = df2_id.loc[df2_id.patient_id == 1221, :]\n",
    "x_features = x_row.drop('patient_id', axis=1).values\n",
    "x_pos = exported_pipeline.predict_proba(x_features)[:, 1]\n",
    "\n",
    "mylistup = []\n",
    "mylistdown = []\n",
    "\n",
    "for snp in range(0, x_features.size):\n",
    "    x_features[0][snp] = (x_features[0][snp] + 1) % 3\n",
    "    probup = exported_pipeline.predict_proba(x_features[0].reshape(1, -1))[0, 1]\n",
    "    mylistup.append(probup)\n",
    "    \n",
    "    x_features[0][snp] = (x_features[0][snp] - 2) % 3  # -2+1=-1\n",
    "    probdown = exported_pipeline.predict_proba(x_features.reshape(1, -1))[0, 1]\n",
    "    mylistdown.append(probdown)\n",
    "\n",
    "    x_features[0][snp] = (x_features[0][snp] + 1) % 3  # change back\n",
    "    \n",
    "upbumplist = mylistup - original_prob\n",
    "downbumplist = mylistdown - original_prob\n",
    "uplist = upbumplist.tolist()\n",
    "downlist = downbumplist.tolist()\n",
    "\n",
    "completelist = uplist + downlist + [0]  # 0 for no change\n",
    "min_index = np.argmin(completelist)\n",
    "min_value = min(completelist)\n",
    "best_prob = min_value + original_prob\n",
    "all_info.append(str(1221))  # participant idx\n",
    "\n",
    "all_info.extend((original_prob, best_prob, original_prob - best_prob))\n",
    "if (min_index == (n_snps * 2 + 1)):  # no change is best\n",
    "    all_info.extend((\"N/A\", \"N/A\", \"N/A\"))\n",
    "else:\n",
    "    SNP_idx = min_index % n_snps\n",
    "    all_info.extend((SNP_names[SNP_idx], int(x_features[0][SNP_idx]),\n",
    "                     int((x_features[0][SNP_idx] - 1 + 2 * float(min_index <= n_snps)) % 3)))\n",
    "\n",
    "final_df = pd.DataFrame(all_info).T\n",
    "final_df.columns = ['Participant Idx', 'Original Prob.', 'Best Possible Prob.', 'Risk Decrease', 'SNP Name', 'Ori. SNP Value', 'New SNP Value']\n",
    "final_df\n",
    "\n",
    "\n",
    "\n",
    "\n"
   ]
  },
  {
   "cell_type": "code",
   "execution_count": 30,
   "metadata": {},
   "outputs": [
    {
     "name": "stdout",
     "output_type": "stream",
     "text": [
      "0.39963159229455625\n",
      "0.39793218105095024\n"
     ]
    }
   ],
   "source": [
    "import pandas as pd\n",
    "import numpy as np\n",
    "from sklearn.ensemble import ExtraTreesClassifier\n",
    "from sklearn.model_selection import train_test_split\n",
    "\n",
    "df = pd.read_csv('finalBCdata.csv')\n",
    "df_id = df.drop('phenotype', axis=1)\n",
    "features = df_id.drop('patient_id', axis=1).values\n",
    "\n",
    "training_features, testing_features, training_target, testing_target = \\\n",
    "            train_test_split(features, df['phenotype'].values, random_state=42)\n",
    "\n",
    "exported_pipeline = ExtraTreesClassifier(bootstrap=False, random_state = 42, criterion=\"entropy\", max_features=0.1, min_samples_leaf=18, min_samples_split=20, n_estimators=100)\n",
    "exported_pipeline.fit(training_features, training_target)\n",
    "\n",
    "\n",
    "# def individual_editing(sub_id, SNP, new_SNP_val):\n",
    "all_info = []\n",
    "x_row = df_id.loc[df_id.patient_id == 1221, :]\n",
    "x_features = x_row.drop('patient_id', axis=1).values\n",
    "original_prob = exported_pipeline.predict_proba(x_features)[:, 1][0]\n",
    "\n",
    "x_row.loc[:, 'rs6762644'].values[0] = 1\n",
    "new_x_features = x_row.drop('patient_id', axis=1).values\n",
    "new_prob = exported_pipeline.predict_proba(new_x_features)[:, 1][0]\n",
    "print(original_prob)\n",
    "print(new_prob)\n",
    "\n"
   ]
  },
  {
   "cell_type": "code",
   "execution_count": 36,
   "metadata": {},
   "outputs": [
    {
     "data": {
      "text/plain": [
       "array([2.])"
      ]
     },
     "execution_count": 36,
     "metadata": {},
     "output_type": "execute_result"
    }
   ],
   "source": [
    "df = pd.read_csv('finalBCdata.csv')\n",
    "value = df.loc[df.patient_id == 1221, 'rs6762644']\n",
    "value.values"
   ]
  },
  {
   "cell_type": "code",
   "execution_count": null,
   "metadata": {},
   "outputs": [],
   "source": []
  }
 ],
 "metadata": {
  "kernelspec": {
   "display_name": "Python 3",
   "language": "python",
   "name": "python3"
  },
  "language_info": {
   "codemirror_mode": {
    "name": "ipython",
    "version": 3
   },
   "file_extension": ".py",
   "mimetype": "text/x-python",
   "name": "python",
   "nbconvert_exporter": "python",
   "pygments_lexer": "ipython3",
   "version": "3.7.1"
  }
 },
 "nbformat": 4,
 "nbformat_minor": 2
}
