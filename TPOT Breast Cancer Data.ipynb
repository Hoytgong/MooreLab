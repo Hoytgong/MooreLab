{
 "cells": [
  {
   "cell_type": "code",
   "execution_count": 5,
   "metadata": {},
   "outputs": [],
   "source": [
    "# Build a ML model from real or simulated genetic data (we have simulated data you can start with)\n",
    "# Systematically change the genotypes of the genetic variants (i.e. the features) one at a time (genotypes are coded 0,1,2) for each subject in the data set\n",
    "# Plot the change in risk for each genotype/variant and subject\n",
    "\n",
    "# This would require you writing a script to run the ML model after changing each genotype.\n",
    "\n",
    "# The only wrinkle is that we should use a probability machine approach that uses a regression function with \n",
    "# the ML method such that the output is a probability instead of a 1 (disease) and 0 (healthy) outcome.\n",
    "\n",
    "\n",
    "# Import required libraries\n",
    "from tpot import TPOTClassifier\n",
    "from sklearn.model_selection import train_test_split\n",
    "import pandas as pd\n",
    "import numpy as np\n",
    "import random\n",
    "\n",
    "# Load breast cancer data\n",
    "bcdata = pd.read_csv('breastCancer29.csv')\n",
    "\n",
    "# store in two dfs the cases and controls\n",
    "dataset_all_cases = bcdata.loc[bcdata.phenotype == 0, :]\n",
    "dataset_all_controls = bcdata.loc[bcdata.phenotype == 1, :]\n",
    "all_cases = dataset_all_cases.reset_index(drop=True)\n",
    "all_controls = dataset_all_controls.reset_index(drop=True)\n",
    "\n",
    "# Select 50 random numbers in both case and controls\n",
    "random.seed(12345)\n",
    "random_cases_indicies = random.sample(range(len(all_cases)), 50)            \n",
    "random_controls_indicies = random.sample(range(len(all_controls)), 50)\n",
    "\n",
    "fifty_cases = all_cases.loc[random_cases_indicies, :]            # Get 50 random samples from case array\n",
    "rest_of_cases = all_cases.drop(random_cases_indicies)\n",
    "\n",
    "fifty_controls = all_controls.loc[random_controls_indicies, :]   # Get 50 random samples from controls array\n",
    "rest_of_controls = all_controls.drop(random_controls_indicies)\n",
    "\n",
    "# Resulting 100 balanced random rows (50 case/50 control) as precision medicine test dataset\n",
    "pre_med_data = pd.concat([fifty_cases, fifty_controls]).reset_index(drop=True)\n",
    "\n",
    "test_validate_data = bcdata.drop(pre_med_data.index).reset_index(drop=True)\n",
    "\n",
    "# Now we have two datasets from original 'breastCancer29.csv' \n",
    "# --> pre_med_data (100 participants) & test_validate_data (2405 participants)"
   ]
  },
  {
   "cell_type": "code",
   "execution_count": 6,
   "metadata": {},
   "outputs": [],
   "source": [
    "pre_med_data.to_csv('premed.csv', index = False)\n",
    "test_validate_data.to_csv('test_validate_data.csv', index = False) # Split into X/Y train and X/Y test"
   ]
  },
  {
   "cell_type": "code",
   "execution_count": 7,
   "metadata": {},
   "outputs": [],
   "source": [
    "# Train & validate on the test_validate_data = (bcdata - precision medicine dataset) \n",
    "Xdata = test_validate_data.loc[:, bcdata.columns != 'phenotype']\n",
    "Ydata = test_validate_data['phenotype']\n",
    "X_train, X_test, Y_train, Y_test = train_test_split(Xdata, Ydata, random_state=42,\n",
    "                                                    train_size=0.75, test_size=0.25)"
   ]
  },
  {
   "cell_type": "code",
   "execution_count": 8,
   "metadata": {},
   "outputs": [
    {
     "data": {
      "application/vnd.jupyter.widget-view+json": {
       "model_id": "2c06ae91efbb47199a2716522acd5faa",
       "version_major": 2,
       "version_minor": 0
      },
      "text/plain": [
       "HBox(children=(IntProgress(value=0, description='Optimization Progress'), HTML(value='')))"
      ]
     },
     "metadata": {},
     "output_type": "display_data"
    },
    {
     "name": "stdout",
     "output_type": "stream",
     "text": [
      "Generation 1 - Current best internal CV score: 0.5568467220683286\n",
      "Generation 2 - Current best internal CV score: 0.5590704832256079\n",
      "Generation 3 - Current best internal CV score: 0.5590735610957218\n",
      "Generation 4 - Current best internal CV score: 0.5590735610957218\n",
      "Generation 5 - Current best internal CV score: 0.5596198830409357\n",
      "Generation 6 - Current best internal CV score: 0.5596198830409357\n",
      "Generation 7 - Current best internal CV score: 0.5596198830409357\n",
      "\n",
      "15.073534266666666 minutes have elapsed. TPOT will close down.\n",
      "TPOT closed prematurely. Will use the current best pipeline.\n",
      "\n",
      "Best pipeline: ExtraTreesClassifier(input_matrix, bootstrap=False, criterion=entropy, max_features=0.1, min_samples_leaf=18, min_samples_split=20, n_estimators=100)\n",
      "0.5524126455906821\n"
     ]
    }
   ],
   "source": [
    "tpot = TPOTClassifier(generations=100, population_size=100, verbosity=2, template = 'Classifier', max_time_mins=15, early_stop=5)\n",
    "tpot.fit(X_train, Y_train)\n",
    "print(tpot.score(X_test, Y_test))"
   ]
  },
  {
   "cell_type": "code",
   "execution_count": 9,
   "metadata": {},
   "outputs": [
    {
     "data": {
      "text/plain": [
       "True"
      ]
     },
     "execution_count": 9,
     "metadata": {},
     "output_type": "execute_result"
    }
   ],
   "source": [
    "tpot.export('bcdata_pipeline.py')\n"
   ]
  },
  {
   "cell_type": "code",
   "execution_count": null,
   "metadata": {},
   "outputs": [],
   "source": []
  }
 ],
 "metadata": {
  "kernelspec": {
   "display_name": "Python 3",
   "language": "python",
   "name": "python3"
  },
  "language_info": {
   "codemirror_mode": {
    "name": "ipython",
    "version": 3
   },
   "file_extension": ".py",
   "mimetype": "text/x-python",
   "name": "python",
   "nbconvert_exporter": "python",
   "pygments_lexer": "ipython3",
   "version": "3.6.5"
  }
 },
 "nbformat": 4,
 "nbformat_minor": 2
}
