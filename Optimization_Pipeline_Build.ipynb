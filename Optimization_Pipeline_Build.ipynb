{
 "cells": [
  {
   "cell_type": "markdown",
   "metadata": {},
   "source": [
    "# Part A: Precision Medicine Optimization Pipeline Build\n",
    "---\n",
    "\n",
    "## Purpose\n",
    "This file builds the exported pipeline from TPOT that is called in the `Optimization_POC.ipynb` Part B notebook.\n",
    "\n",
    "#### Methods\n",
    "We load in the dataset created from the raw `breastCancer29.csv` file to then split into training, validation, and testing data.\n",
    "In particular, we leave aside 100 random, balanced participants to confirm accuracy scores. We obtain an accuracy score through fitting a TPOT model on the 75% of the training data, while using the remaining 25% to construct an accuracy report of the model.\n",
    "Afterwards, we confirm the model's accuracy is robust and export the pipeline for usage in `Optimization_POC.ipynb`.\n",
    "\n",
    "TL;DR: We split into training (`pm_train.csv`) & testing data (`pm_test.csv`). Then we split our training data in order to hold out a validation set for accuracy reporting purposes. We then export the pipeline for later use."
   ]
  },
  {
   "cell_type": "code",
   "execution_count": 1,
   "metadata": {},
   "outputs": [],
   "source": [
    "from tpot import TPOTClassifier\n",
    "from sklearn.model_selection import train_test_split\n",
    "import pandas as pd\n",
    "import numpy as np\n",
    "import random\n",
    "\n",
    "# Load breast cancer data\n",
    "bcdata = pd.read_csv('breastCancer29.csv')\n",
    "\n",
    "# store in two dfs the cases and controls\n",
    "all_cases = bcdata.loc[bcdata.phenotype == 0, :].reset_index(drop=True)\n",
    "all_controls = bcdata.loc[bcdata.phenotype == 1, :].reset_index(drop=True)\n",
    "\n",
    "# Select 50 random numbers in both case and controls\n",
    "random.seed(42)\n",
    "case_idx = random.sample(range(all_cases.shape[0]), 50)            \n",
    "control_idx = random.sample(range(all_controls.shape[0]), 50)\n",
    "\n",
    "fifty_cases = all_cases.loc[case_idx, :]            \n",
    "fifty_controls = all_controls.loc[control_idx, :]   \n",
    "\n",
    "# Resulting 100 balanced random rows (50 case/50 control) as precision medicine test dataset\n",
    "pm_test = pd.concat([fifty_cases, fifty_controls]).reset_index(drop=True)\n",
    "pm_train = bcdata.drop(pm_test.index).reset_index(drop=True)\n",
    "\n",
    "# pre_med_data == pm_test\n",
    "# test_validated_data == pm_train"
   ]
  },
  {
   "cell_type": "code",
   "execution_count": 2,
   "metadata": {},
   "outputs": [],
   "source": [
    "pm_test.to_csv('pm_test.csv', index = False)\n",
    "pm_train.to_csv('pm_train.csv', index = False) "
   ]
  },
  {
   "cell_type": "code",
   "execution_count": 3,
   "metadata": {},
   "outputs": [],
   "source": [
    "# Train & validate on the pm_train\n",
    "Xdata = pm_train.loc[:, bcdata.columns != 'phenotype']\n",
    "Ydata = pm_train['phenotype']\n",
    "X_train, X_test, Y_train, Y_test = train_test_split(Xdata, Ydata, random_state=42,\n",
    "                                                    train_size=0.75, test_size=0.25)"
   ]
  },
  {
   "cell_type": "code",
   "execution_count": 4,
   "metadata": {},
   "outputs": [
    {
     "name": "stdout",
     "output_type": "stream",
     "text": [
      "Warning: xgboost.XGBClassifier is not available and will not be used by TPOT.\n"
     ]
    },
    {
     "data": {
      "application/vnd.jupyter.widget-view+json": {
       "model_id": "ee1a1473bf734140952aa9c170672233",
       "version_major": 2,
       "version_minor": 0
      },
      "text/plain": [
       "HBox(children=(IntProgress(value=0, description='Optimization Progress', style=ProgressStyle(description_width…"
      ]
     },
     "metadata": {},
     "output_type": "display_data"
    },
    {
     "name": "stdout",
     "output_type": "stream",
     "text": [
      "Generation 1 - Current best internal CV score: 0.5546321945213911\n",
      "Generation 2 - Current best internal CV score: 0.5573945829485996\n",
      "Generation 3 - Current best internal CV score: 0.5573945829485996\n",
      "Generation 4 - Current best internal CV score: 0.5573945829485996\n",
      "Generation 5 - Current best internal CV score: 0.5573945829485996\n",
      "Generation 6 - Current best internal CV score: 0.560727916281933\n",
      "\n",
      "19.778496816666667 minutes have elapsed. TPOT will close down.\n",
      "TPOT closed during evaluation in one generation.\n",
      "WARNING: TPOT may not provide a good pipeline if TPOT is stopped/interrupted in a early generation.\n",
      "\n",
      "\n",
      "TPOT closed prematurely. Will use the current best pipeline.\n",
      "\n",
      "Best pipeline: LogisticRegression(PCA(input_matrix, iterated_power=1, svd_solver=randomized), C=0.001, dual=False, penalty=l2)\n",
      "0.5440931780366056\n"
     ]
    }
   ],
   "source": [
    "tpot = TPOTClassifier(generations=100, population_size=100, verbosity=2, max_time_mins=15, early_stop=5)\n",
    "tpot.fit(X_train, Y_train)\n",
    "print(tpot.score(X_test, Y_test))"
   ]
  },
  {
   "cell_type": "code",
   "execution_count": 6,
   "metadata": {},
   "outputs": [],
   "source": [
    "tpot.export('bcdata_pipeline.py')\n"
   ]
  },
  {
   "cell_type": "code",
   "execution_count": null,
   "metadata": {},
   "outputs": [],
   "source": []
  }
 ],
 "metadata": {
  "kernelspec": {
   "display_name": "Python 3",
   "language": "python",
   "name": "python3"
  },
  "language_info": {
   "codemirror_mode": {
    "name": "ipython",
    "version": 3
   },
   "file_extension": ".py",
   "mimetype": "text/x-python",
   "name": "python",
   "nbconvert_exporter": "python",
   "pygments_lexer": "ipython3",
   "version": "3.7.1"
  }
 },
 "nbformat": 4,
 "nbformat_minor": 2
}
