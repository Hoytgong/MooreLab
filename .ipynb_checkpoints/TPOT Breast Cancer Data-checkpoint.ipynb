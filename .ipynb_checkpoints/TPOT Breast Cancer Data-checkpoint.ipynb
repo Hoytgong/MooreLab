{
 "cells": [
  {
   "cell_type": "code",
   "execution_count": 7,
   "metadata": {},
   "outputs": [],
   "source": [
    "# Build a ML model from real or simulated genetic data (we have simulated data you can start with)\n",
    "# Systematically change the genotypes of the genetic variants (i.e. the features) one at a time (genotypes are coded 0,1,2) for each subject in the data set\n",
    "# Plot the change in risk for each genotype/variant and subject\n",
    "\n",
    "# This would require you writing a script to run the ML model after changing each genotype.\n",
    "\n",
    "# The only wrinkle is that we should use a probability machine approach that uses a regression function with \n",
    "# the ML method such that the output is a probability instead of a 1 (disease) and 0 (healthy) outcome.\n",
    "\n",
    "\n",
    "# Import required libraries\n",
    "from tpot import TPOTClassifier\n",
    "from sklearn.model_selection import train_test_split\n",
    "import pandas as pd\n",
    "import numpy as np\n",
    "import random\n",
    "\n",
    "# Load breast cancer data\n",
    "bcdata = pd.read_csv('breastCancer29.csv')\n",
    "\n",
    "# store in two dfs the cases and controls\n",
    "dataset_all_cases = bcdata.loc[bcdata.phenotype == 0, :]\n",
    "dataset_all_controls = bcdata.loc[bcdata.phenotype == 1, :]\n",
    "all_cases = dataset_all_cases.reset_index(drop=True)\n",
    "all_controls = dataset_all_controls.reset_index(drop=True)\n",
    "\n",
    "# Select 50 random numbers in both case and controls\n",
    "random_cases_indicies = random.sample(range(len(all_cases)), 50)            \n",
    "random_controls_indicies = random.sample(range(len(all_controls)), 50)\n",
    "\n",
    "fifty_cases = all_cases.loc[random_cases_indicies, :]            # Get 50 random samples from case array\n",
    "rest_of_cases = all_cases.drop(random_cases_indicies)\n",
    "\n",
    "fifty_controls = all_controls.loc[random_controls_indicies, :]   # Get 50 random samples from controls array\n",
    "rest_of_controls = all_controls.drop(random_controls_indicies)\n",
    "\n",
    "# Resulting 100 balanced random rows (50 case/50 control) as precision medicine test dataset\n",
    "pre_med_data = pd.concat([fifty_cases, fifty_controls]).reset_index(drop=True)\n",
    "\n",
    "test_validate_data = bcdata.drop(pre_med_data.index).reset_index(drop=True)\n",
    "\n",
    "# Now we have two datasets from original 'breastCancer29.csv' \n",
    "# --> pre_med_data (100 participants) & test_validate_data (2405 participants)"
   ]
  },
  {
   "cell_type": "code",
   "execution_count": 8,
   "metadata": {},
   "outputs": [],
   "source": [
    "# Train & validate on the test_validate_data = (bcdata - precision medicine dataset) \n",
    "Xdata = test_validate_data.loc[:, bcdata.columns != 'phenotype']\n",
    "Ydata = test_validate_data['phenotype']\n",
    "X_train, X_test, Y_train, Y_test = train_test_split(Xdata, Ydata,\n",
    "                                                    train_size=0.75, test_size=0.25)"
   ]
  },
  {
   "cell_type": "code",
   "execution_count": 9,
   "metadata": {},
   "outputs": [
    {
     "data": {
      "application/vnd.jupyter.widget-view+json": {
       "model_id": "04cd3be112bf43bca8bc569822db2280",
       "version_major": 2,
       "version_minor": 0
      },
      "text/plain": [
       "HBox(children=(IntProgress(value=0, description='Optimization Progress'), HTML(value='')))"
      ]
     },
     "metadata": {},
     "output_type": "display_data"
    },
    {
     "name": "stdout",
     "output_type": "stream",
     "text": [
      "Generation 1 - Current best internal CV score: 0.5540858725761773\n",
      "Generation 2 - Current best internal CV score: 0.5540858725761773\n",
      "Generation 3 - Current best internal CV score: 0.5540858725761773\n",
      "Generation 4 - Current best internal CV score: 0.5568528778085564\n",
      "Generation 5 - Current best internal CV score: 0.5568528778085564\n",
      "Generation 6 - Current best internal CV score: 0.5568528778085564\n",
      "Generation 7 - Current best internal CV score: 0.5568528778085564\n",
      "\n",
      "15.010785083333333 minutes have elapsed. TPOT will close down.\n",
      "TPOT closed prematurely. Will use the current best pipeline.\n",
      "\n",
      "Best pipeline: GradientBoostingClassifier(input_matrix, learning_rate=0.01, max_depth=5, max_features=0.4, min_samples_leaf=6, min_samples_split=4, n_estimators=100, subsample=0.6500000000000001)\n",
      "0.5457570715474209\n"
     ]
    }
   ],
   "source": [
    "tpot = TPOTClassifier(generations=100, population_size=100, verbosity=2, template = 'Classifier', max_time_mins=15)\n",
    "tpot.fit(X_train, Y_train)\n",
    "print(tpot.score(X_test, Y_test))"
   ]
  },
  {
   "cell_type": "code",
   "execution_count": 10,
   "metadata": {},
   "outputs": [],
   "source": [
    "tpot.export('bcdata_pipeline.py')\n",
    "pre_med_data.to_csv('premed.csv')\n",
    "test_validate_data.to_csv('test_validate_data.csv')"
   ]
  },
  {
   "cell_type": "code",
   "execution_count": null,
   "metadata": {},
   "outputs": [],
   "source": []
  }
 ],
 "metadata": {
  "kernelspec": {
   "display_name": "Python 3",
   "language": "python",
   "name": "python3"
  },
  "language_info": {
   "codemirror_mode": {
    "name": "ipython",
    "version": 3
   },
   "file_extension": ".py",
   "mimetype": "text/x-python",
   "name": "python",
   "nbconvert_exporter": "python",
   "pygments_lexer": "ipython3",
   "version": "3.6.5"
  }
 },
 "nbformat": 4,
 "nbformat_minor": 2
}
