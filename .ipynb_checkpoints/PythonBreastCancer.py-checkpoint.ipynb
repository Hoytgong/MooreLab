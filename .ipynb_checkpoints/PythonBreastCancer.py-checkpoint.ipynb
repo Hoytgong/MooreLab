{
 "cells": [
  {
   "cell_type": "code",
   "execution_count": 1,
   "metadata": {},
   "outputs": [
    {
     "name": "stdout",
     "output_type": "stream",
     "text": [
      "0.5357737104825291\n"
     ]
    }
   ],
   "source": [
    "%matplotlib inline\n",
    "\n",
    "import numpy as np\n",
    "import pandas as pd\n",
    "import matplotlib.pyplot as plt\n",
    "from sklearn.model_selection import train_test_split\n",
    "from sklearn.ensemble import GradientBoostingClassifier\n",
    "\n",
    "# NOTE: Make sure that the class is labeled 'target' in the data file\n",
    "test_val_data = pd.read_csv('~/Documents/MooreLab/test_validate_data.csv', sep=',', dtype=np.float64)\n",
    "features = test_val_data.drop('phenotype', axis=1).values\n",
    "training_features, testing_features, training_target, testing_target = \\\n",
    "            train_test_split(features, test_val_data['phenotype'].values, random_state=42)\n",
    "\n",
    "# Average CV score on the training set was:0.5568528778085564\n",
    "exported_pipeline = GradientBoostingClassifier(learning_rate=0.01, max_depth=5, max_features=0.4, min_samples_leaf=6,\n",
    "                                               min_samples_split=4, n_estimators=100, subsample=0.6500000000000001)\n",
    "exported_pipeline.fit(training_features, training_target)\n",
    "\n",
    "print(exported_pipeline.score(testing_features, testing_target)) # The score of our ML pipeline on test data (features & target)\n",
    "\n",
    "# Stores an array of all values of predicted testing_target (our Y, from predicting on our X, testing_features)\n",
    "yhat_test = exported_pipeline.predict(testing_features)          # Predicts the phenotype for each member of test_val_data"
   ]
  },
  {
   "cell_type": "code",
   "execution_count": 14,
   "metadata": {
    "scrolled": true
   },
   "outputs": [
    {
     "data": {
      "text/plain": [
       "array([0., 0., 0., 0., 0., 0., 0., 0., 0., 0., 0., 0., 0., 0., 0., 0., 0.,\n",
       "       0., 1., 0., 0., 0., 0., 1., 1., 0., 0., 0., 0., 1., 0., 0., 0., 0.,\n",
       "       0., 0., 0., 0., 0., 0., 0., 0., 0., 0., 0., 0., 0., 0., 0., 0., 0.,\n",
       "       0., 0., 0., 0., 0., 0., 0., 0., 1., 0., 0., 0., 0., 0., 0., 0., 0.,\n",
       "       0., 0., 0., 0., 1., 0., 0., 0., 0., 0., 0., 0., 0., 0., 0., 1., 0.,\n",
       "       0., 0., 0., 0., 0., 0., 0., 0., 0., 0., 0., 0., 0., 0., 0., 1., 0.,\n",
       "       0., 0., 0., 0., 0., 0., 0., 0., 1., 0., 0., 1., 1., 0., 0., 0., 0.,\n",
       "       0., 0., 0., 0., 0., 1., 0., 0., 1., 1., 0., 0., 0., 0., 0., 0., 0.,\n",
       "       0., 0., 0., 0., 0., 0., 0., 0., 0., 0., 0., 0., 0., 0., 0., 0., 0.,\n",
       "       0., 0., 0., 0., 0., 0., 0., 1., 0., 0., 0., 0., 0., 0., 0., 0., 0.,\n",
       "       0., 0., 0., 0., 0., 0., 0., 0., 0., 0., 0., 0., 1., 1., 0., 0., 0.,\n",
       "       0., 0., 0., 0., 1., 0., 0., 0., 0., 0., 0., 0., 0., 0., 0., 0., 0.,\n",
       "       0., 0., 0., 0., 0., 0., 0., 0., 1., 0., 0., 0., 0., 0., 0., 0., 0.,\n",
       "       0., 1., 0., 0., 0., 0., 0., 0., 0., 0., 0., 0., 0., 0., 0., 0., 0.,\n",
       "       1., 0., 0., 0., 0., 0., 0., 0., 0., 0., 0., 0., 0., 0., 0., 0., 0.,\n",
       "       0., 0., 1., 0., 0., 0., 0., 1., 1., 0., 0., 0., 0., 0., 0., 0., 0.,\n",
       "       0., 0., 0., 0., 0., 0., 0., 0., 0., 0., 0., 0., 0., 0., 0., 0., 0.,\n",
       "       0., 1., 0., 0., 0., 0., 0., 1., 0., 0., 0., 0., 0., 0., 0., 0., 0.,\n",
       "       0., 0., 0., 0., 0., 0., 0., 1., 0., 1., 0., 0., 0., 0., 0., 0., 0.,\n",
       "       0., 0., 0., 0., 0., 0., 0., 0., 0., 0., 0., 0., 0., 0., 0., 0., 0.,\n",
       "       0., 0., 0., 0., 0., 0., 0., 0., 0., 0., 1., 0., 0., 0., 0., 1., 0.,\n",
       "       0., 0., 1., 0., 1., 0., 1., 0., 0., 0., 0., 0., 0., 0., 0., 0., 0.,\n",
       "       0., 0., 0., 0., 0., 0., 0., 0., 0., 0., 0., 0., 0., 0., 0., 0., 0.,\n",
       "       0., 0., 0., 0., 0., 0., 0., 0., 0., 0., 0., 0., 0., 0., 0., 0., 0.,\n",
       "       0., 0., 0., 0., 0., 0., 0., 0., 0., 0., 0., 0., 0., 0., 0., 0., 0.,\n",
       "       0., 1., 0., 0., 0., 0., 0., 1., 0., 0., 0., 0., 0., 0., 0., 0., 0.,\n",
       "       0., 0., 0., 0., 0., 1., 0., 0., 1., 0., 0., 0., 0., 0., 0., 0., 0.,\n",
       "       0., 0., 0., 0., 0., 0., 0., 0., 0., 0., 0., 0., 0., 0., 1., 0., 0.,\n",
       "       0., 0., 0., 0., 0., 0., 0., 0., 0., 0., 0., 0., 0., 0., 0., 0., 0.,\n",
       "       0., 0., 0., 0., 0., 0., 1., 0., 0., 0., 0., 1., 1., 0., 0., 0., 0.,\n",
       "       0., 0., 0., 0., 0., 0., 0., 0., 0., 0., 0., 0., 0., 0., 0., 0., 0.,\n",
       "       1., 0., 0., 0., 0., 0., 0., 0., 0., 0., 0., 0., 0., 0., 0., 0., 0.,\n",
       "       0., 0., 0., 0., 0., 0., 0., 0., 0., 0., 0., 0., 0., 0., 0., 0., 0.,\n",
       "       0., 0., 0., 0., 0., 0., 0., 1., 0., 0., 0., 0., 0., 0., 0., 0., 0.,\n",
       "       0., 1., 0., 1., 0., 0., 0., 1., 0., 0., 0., 0., 0., 0., 0., 0., 1.,\n",
       "       0., 0., 0., 0., 0., 0.])"
      ]
     },
     "execution_count": 14,
     "metadata": {},
     "output_type": "execute_result"
    }
   ],
   "source": []
  },
  {
   "cell_type": "code",
   "execution_count": 41,
   "metadata": {},
   "outputs": [],
   "source": [
    "# Sum of absolute value of yhat_test vs testing_target divided by length of testing_target vector\n",
    "test_err = sum(abs(yhat_test - testing_target))/len(testing_target)\n",
    "# test_err + yhat_test = 1.0         b/c sum of all the errors + original prediction = 100%"
   ]
  },
  {
   "cell_type": "code",
   "execution_count": 42,
   "metadata": {
    "scrolled": true
   },
   "outputs": [],
   "source": [
    "idx1_test = testing_target == 1\n",
    "testing_features_cancer = testing_features[idx1_test,:]             # All the rows with phenotype 1\n",
    "testing_features_healthy = testing_features[~idx1_test,:]           # All the rows without phenotype 1"
   ]
  },
  {
   "cell_type": "code",
   "execution_count": 43,
   "metadata": {},
   "outputs": [
    {
     "data": {
      "image/png": "[encoded data removed]",
      "text/plain": [
       "<Figure size 432x288 with 1 Axes>"
      ]
     },
     "metadata": {},
     "output_type": "display_data"
    }
   ],
   "source": [
    "prob_test_healthy = exported_pipeline.predict_proba(testing_features_healthy)    # Predict proba of these features\n",
    "prob_test_phenotype_healthy = prob_test_healthy[:,1]                             # Take their probabilities, plot below\n",
    "prob_test_cancer = exported_pipeline.predict_proba(testing_features_cancer)\n",
    "prob_test_phenotype_cancer = prob_test_cancer[:,1]\n",
    "\n",
    "plt.hist(prob_test_phenotype_cancer, bins = 50, alpha=0.5, label='breast_cancer', density=True)\n",
    "plt.hist(prob_test_phenotype_healthy, bins = 50, alpha=0.5, label='healthy', density=True)\n",
    "plt.legend(loc='upper left')\n",
    "plt.show()"
   ]
  },
  {
   "cell_type": "code",
   "execution_count": 44,
   "metadata": {},
   "outputs": [],
   "source": [
    "\n",
    "# All of this was for the entire distribution, but what we did above was split rows into phenotype 1 & 0 cases,\n",
    "#         This way, we can distinguish between two plots; one distribution of healthy people prob of disease, then of disease people\n",
    "# prob_test = exported_pipeline.predict_proba(testing_features)\n",
    "# prob_test_phenotype_1 = prob_test[:,1]\n",
    "# plt.hist(prob_test_phenotype_1, bins = 50, alpha=0.5, label='test_validate_dataset_distribution', density=True)\n",
    "# plt.legend(loc='upper right')\n",
    "# plt.show()"
   ]
  },
  {
   "cell_type": "code",
   "execution_count": 46,
   "metadata": {},
   "outputs": [
    {
     "ename": "IndexError",
     "evalue": "boolean index did not match indexed array along dimension 0; dimension is 100 but corresponding boolean dimension is 601",
     "output_type": "error",
     "traceback": [
      "\u001b[0;31m---------------------------------------------------------------------------\u001b[0m",
      "\u001b[0;31mIndexError\u001b[0m                                Traceback (most recent call last)",
      "\u001b[0;32m<ipython-input-46-479fd453ca55>\u001b[0m in \u001b[0;36m<module>\u001b[0;34m()\u001b[0m\n\u001b[1;32m      6\u001b[0m \u001b[0;34m\u001b[0m\u001b[0m\n\u001b[1;32m      7\u001b[0m \u001b[0mpm_idx1_test\u001b[0m \u001b[0;34m=\u001b[0m \u001b[0mtesting_target\u001b[0m \u001b[0;34m==\u001b[0m \u001b[0;36m1\u001b[0m\u001b[0;34m\u001b[0m\u001b[0m\n\u001b[0;32m----> 8\u001b[0;31m \u001b[0mfeatures_pm_cancer\u001b[0m \u001b[0;34m=\u001b[0m \u001b[0mfeatures_pm\u001b[0m\u001b[0;34m[\u001b[0m\u001b[0mpm_idx1_test\u001b[0m\u001b[0;34m,\u001b[0m\u001b[0;34m:\u001b[0m\u001b[0;34m]\u001b[0m             \u001b[0;31m# All the rows with phenotype 1\u001b[0m\u001b[0;34m\u001b[0m\u001b[0m\n\u001b[0m\u001b[1;32m      9\u001b[0m \u001b[0mfeatures_pm_healthy\u001b[0m \u001b[0;34m=\u001b[0m \u001b[0mfeatures_pm\u001b[0m\u001b[0;34m[\u001b[0m\u001b[0;34m~\u001b[0m\u001b[0mpm_idx1_test\u001b[0m\u001b[0;34m,\u001b[0m\u001b[0;34m:\u001b[0m\u001b[0;34m]\u001b[0m           \u001b[0;31m# All the rows with phenotype 0\u001b[0m\u001b[0;34m\u001b[0m\u001b[0m\n\u001b[1;32m     10\u001b[0m \u001b[0;34m\u001b[0m\u001b[0m\n",
      "\u001b[0;31mIndexError\u001b[0m: boolean index did not match indexed array along dimension 0; dimension is 100 but corresponding boolean dimension is 601"
     ]
    }
   ],
   "source": [
    "# Load precision medicine dataset\n",
    "\n",
    "premed_100data = pd.read_csv('~/Documents/MooreLab/premed.csv', sep=',', dtype=np.float64)\n",
    "features_pm = premed_100data.drop('phenotype', axis=1).values         # X variables of 100 pm participants\n",
    "test_pm = premed_100data['phenotype'].values                          # Y variables of 100 pm participants\n",
    "\n",
    "pm_idx1_test = testing_target == 1\n",
    "features_pm_cancer = features_pm[pm_idx1_test,:]             # All the rows with phenotype 1\n",
    "features_pm_healthy = features_pm[~pm_idx1_test,:]           # All the rows with phenotype 0\n",
    "\n",
    "pm_prob_test_healthy = exported_pipeline.predict_proba(features_pm_healthy)    # Predict proba of these features\n",
    "pm_prob_test_phenotype_healthy = pm_prob_test_healthy[:,1]                             # Take their probabilities, plot below\n",
    "pm_prob_test_cancer = exported_pipeline.predict_proba(features_pm_cancer)\n",
    "pm_prob_test_phenotype_cancer = pm_prob_test_cancer[:,1]\n",
    "\n",
    "plt.hist(pm_prob_test_phenotype_cancer, bins = 50, alpha=0.5, label='breast_cancer', density=True)\n",
    "plt.hist(pm_prob_test_phenotype_healthy, bins = 50, alpha=0.5, label='healthy', density=True)\n",
    "plt.legend(loc='upper left')\n",
    "plt.show()"
   ]
  },
  {
   "cell_type": "code",
   "execution_count": 36,
   "metadata": {
    "scrolled": true
   },
   "outputs": [
    {
     "data": {
      "image/png": "[encoded data removed]",
      "text/plain": [
       "<Figure size 432x288 with 1 Axes>"
      ]
     },
     "metadata": {},
     "output_type": "display_data"
    }
   ],
   "source": [
    "\n",
    "prob_test_pmdata = exported_pipeline.predict_proba(features_pm)\n",
    "prob_test_pmdata_phenotype_1 = prob_test_pmdata[:,1]\n",
    "plt.hist(prob_test_pmdata_phenotype_1, bins=50, alpha=0.5, label='pm_distribution', density=True)\n",
    "plt.legend(loc='upper right')\n",
    "plt.show()"
   ]
  },
  {
   "cell_type": "code",
   "execution_count": 37,
   "metadata": {},
   "outputs": [
    {
     "data": {
      "image/png": "[encoded data removed]",
      "text/plain": [
       "<Figure size 432x288 with 1 Axes>"
      ]
     },
     "metadata": {},
     "output_type": "display_data"
    }
   ],
   "source": [
    "# Run both density plots\n",
    "plt.hist(prob_test_phenotype_1, bins = 50, alpha=0.5, label='test_validate_dataset_distribution', density=True)\n",
    "plt.hist(prob_test_pmdata_phenotype_1, bins=50, alpha=0.5, label='pm_distribution', density=True)\n",
    "plt.legend(loc='upper right')\n",
    "plt.show()"
   ]
  },
  {
   "cell_type": "code",
   "execution_count": 25,
   "metadata": {},
   "outputs": [
    {
     "data": {
      "text/plain": [
       "array([5., 1., 0., 0., 0., 0., 2., 1., 0., 0., 0., 2., 1., 0., 1., 0., 0.,\n",
       "       0., 0., 1., 1., 1., 0., 1., 0., 1., 0., 1., 0., 0.])"
      ]
     },
     "execution_count": 25,
     "metadata": {},
     "output_type": "execute_result"
    }
   ],
   "source": [
    "features_pm[:][5]"
   ]
  },
  {
   "cell_type": "code",
   "execution_count": null,
   "metadata": {},
   "outputs": [],
   "source": [
    "# then go to precision medicine dataset, grab ONE individual, \n",
    "# run pipeline i.e prob_test_of_one_patient_in_premeddataset = exported_pipeline.predict_proba(the one participant's 29 SNP)\n",
    "# see where that patient falls in the density plot\n",
    "\n",
    "pmtest_sub_1 = features_pm[0]\n",
    "exported_pipeline.predict_proba(pmtest_sub_1) # initial risk score\n",
    "\n",
    "# modify pmtest_sub_1 mutation rs1234 (i.e. the first column)\n",
    "pmtest_sub_1['rs1234']\n",
    "pmtest_sub_1['rs1234'] = 2\n",
    "exported_pipeline.predict_proba(pmtest_sub_1) # modified risk score\n",
    "\n",
    "\n",
    "# How to systematically do this for all 29 mutations? For loop? Are we visualizing every time?\n",
    "# Tentatively, change, call predict_proba, store in new array - but how are we systematically changing 0, 1, 2?\n"
   ]
  }
 ],
 "metadata": {
  "kernelspec": {
   "display_name": "Python 3",
   "language": "python",
   "name": "python3"
  },
  "language_info": {
   "codemirror_mode": {
    "name": "ipython",
    "version": 3
   },
   "file_extension": ".py",
   "mimetype": "text/x-python",
   "name": "python",
   "nbconvert_exporter": "python",
   "pygments_lexer": "ipython3",
   "version": "3.6.5"
  }
 },
 "nbformat": 4,
 "nbformat_minor": 2
}
