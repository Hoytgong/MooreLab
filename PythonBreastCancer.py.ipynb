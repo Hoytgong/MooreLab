{
 "cells": [
  {
   "cell_type": "code",
   "execution_count": 11,
   "metadata": {},
   "outputs": [
    {
     "name": "stdout",
     "output_type": "stream",
     "text": [
      "0.5575079872204473\n"
     ]
    }
   ],
   "source": [
    "import numpy as np\n",
    "import pandas as pd\n",
    "from sklearn.ensemble import ExtraTreesClassifier\n",
    "from sklearn.model_selection import train_test_split\n",
    "\n",
    "# NOTE: Make sure that the class is labeled 'target' in the data file; instead find path to breastcancer29 - premed.csv\n",
    "tpot_data = pd.read_csv('~/Documents/MooreLab/breastCancer29.csv', sep=',', dtype=np.float64)\n",
    "features = tpot_data.drop('phenotype', axis=1).values\n",
    "training_features, testing_features, training_target, testing_target = \\\n",
    "            train_test_split(features, tpot_data['phenotype'].values, random_state=None)\n",
    "\n",
    "# Average CV score on the training set was:0.5559249619052993\n",
    "exported_pipeline = ExtraTreesClassifier(bootstrap=True, criterion=\"gini\", max_features=0.2, min_samples_leaf=13, min_samples_split=18, n_estimators=100)\n",
    "\n",
    "exported_pipeline.fit(training_features, training_target)\n",
    "print(exported_pipeline.score(testing_features, testing_target))\n",
    "yhat_test = exported_pipeline.predict(testing_features)\n",
    "print(yhat_test)\n",
    "#sum of absolute value of results vs testing_target divided by length of testing_target vector"
   ]
  },
  {
   "cell_type": "code",
   "execution_count": 13,
   "metadata": {},
   "outputs": [],
   "source": [
    "test_err = sum(abs(yhat_test - testing_target))/len(results)"
   ]
  },
  {
   "cell_type": "code",
   "execution_count": 14,
   "metadata": {
    "scrolled": true
   },
   "outputs": [
    {
     "name": "stdout",
     "output_type": "stream",
     "text": [
      "0.4424920127795527\n"
     ]
    }
   ],
   "source": [
    "print(test_err)"
   ]
  },
  {
   "cell_type": "code",
   "execution_count": 15,
   "metadata": {},
   "outputs": [
    {
     "data": {
      "text/plain": [
       "1.0"
      ]
     },
     "execution_count": 15,
     "metadata": {},
     "output_type": "execute_result"
    }
   ],
   "source": [
    "0.5575079872204473+0.4424920127795527"
   ]
  },
  {
   "cell_type": "code",
   "execution_count": 5,
   "metadata": {},
   "outputs": [],
   "source": [
    "prob_test = exported_pipeline.predict_proba(testing_features)"
   ]
  },
  {
   "cell_type": "code",
   "execution_count": 8,
   "metadata": {},
   "outputs": [
    {
     "data": {
      "text/plain": [
       "array([[0.54489307, 0.45510693],\n",
       "       [0.56653529, 0.43346471],\n",
       "       [0.52441212, 0.47558788],\n",
       "       ...,\n",
       "       [0.54384704, 0.45615296],\n",
       "       [0.59355181, 0.40644819],\n",
       "       [0.51806206, 0.48193794]])"
      ]
     },
     "execution_count": 8,
     "metadata": {},
     "output_type": "execute_result"
    }
   ],
   "source": [
    "prob_test"
   ]
  },
  {
   "cell_type": "code",
   "execution_count": null,
   "metadata": {},
   "outputs": [],
   "source": [
    "#visualize dentsity plot of second columns (prob of having breast cancer ie phenotype = 1)\n",
    "\n",
    "#then go to precision medicine dataset, grab ONE individual, \n",
    "# run pipeline i.e prob_test_of_one_patient_in_premeddataset = exported_pipeline.predict_proba(the one participant's 29 SNP)\n",
    "# see where that patient falls in the density plot\n",
    "\n",
    "# hopefully gives you probability gaussian distribution for training samples\n",
    "exported_pipeline.predict_proba(X_train) ## does this return a distribution or a numerical probability?\n",
    "# exported_pipeline.fit(X_train, y_train)\n",
    "\n",
    "test_sub_1 = X_test[0,]\n",
    "exported_pipeline.predict_proba(test_sub_1) # initial risk score\n",
    "\n",
    "# modify test_sub_1 mutation rs1234\n",
    "test_sub_1['rs1234']\n",
    "test_sub_1['rs1234'] = 2\n",
    "exported_pipeline.predict_proba(test_sub_1) # modified risk score\n",
    "\n",
    "# How to systematically do this for all 29 mutations? For loop? Are we visualizing every time?\n",
    "# Tentatively, change, call predict_proba, store in new array - but how are we systematically changing 0, 1, 2?\n"
   ]
  }
 ],
 "metadata": {
  "kernelspec": {
   "display_name": "Python 3",
   "language": "python",
   "name": "python3"
  },
  "language_info": {
   "codemirror_mode": {
    "name": "ipython",
    "version": 3
   },
   "file_extension": ".py",
   "mimetype": "text/x-python",
   "name": "python",
   "nbconvert_exporter": "python",
   "pygments_lexer": "ipython3",
   "version": "3.6.5"
  }
 },
 "nbformat": 4,
 "nbformat_minor": 2
}
