{
 "cells": [
  {
   "cell_type": "code",
   "execution_count": 20,
   "metadata": {},
   "outputs": [
    {
     "name": "stdout",
     "output_type": "stream",
     "text": [
      "0.5880398671096345\n"
     ]
    },
    {
     "name": "stderr",
     "output_type": "stream",
     "text": [
      "/anaconda3/lib/python3.6/site-packages/sklearn/preprocessing/label.py:151: DeprecationWarning: The truth value of an empty array is ambiguous. Returning False, but in future this will result in an error. Use `array.size > 0` to check that an array is not empty.\n",
      "  if diff:\n",
      "/anaconda3/lib/python3.6/site-packages/sklearn/preprocessing/label.py:151: DeprecationWarning: The truth value of an empty array is ambiguous. Returning False, but in future this will result in an error. Use `array.size > 0` to check that an array is not empty.\n",
      "  if diff:\n"
     ]
    }
   ],
   "source": [
    "import numpy as np\n",
    "import pandas as pd\n",
    "import matplotlib.pyplot as plt\n",
    "import seaborn as sns\n",
    "from sklearn.model_selection import train_test_split\n",
    "from xgboost import XGBClassifier\n",
    "\n",
    "# NOTE: Make sure that the class is labeled 'target' in the data file\n",
    "test_val_data = pd.read_csv('~/Documents/MooreLab/test_validate_data.csv', sep=',', dtype=np.float64)\n",
    "features = test_val_data.drop('phenotype', axis=1).values\n",
    "training_features, testing_features, training_target, testing_target = \\\n",
    "            train_test_split(features, test_val_data['phenotype'].values, random_state=None)\n",
    "\n",
    "# Average CV score on the training set was:0.5524240156174044\n",
    "exported_pipeline = XGBClassifier(learning_rate=0.001, max_depth=10, min_child_weight=18, n_estimators=100, nthread=1, subsample=0.7000000000000001)\n",
    "\n",
    "exported_pipeline.fit(training_features, training_target)\n",
    "print(exported_pipeline.score(testing_features, testing_target)) # The score of our ML pipeline on test data (features & target)\n",
    "\n",
    "yhat_test = exported_pipeline.predict(testing_features)          # Predicts the phenotype for each member of test_val_data\n",
    "\n",
    "#sum of absolute value of results vs testing_target divided by length of testing_target vector"
   ]
  },
  {
   "cell_type": "code",
   "execution_count": 6,
   "metadata": {},
   "outputs": [],
   "source": [
    "test_err = sum(abs(yhat_test - testing_target))/len(testing_target)"
   ]
  },
  {
   "cell_type": "code",
   "execution_count": 8,
   "metadata": {
    "scrolled": true
   },
   "outputs": [
    {
     "name": "stdout",
     "output_type": "stream",
     "text": [
      "0.43521594684385384\n"
     ]
    }
   ],
   "source": [
    "print(test_err)"
   ]
  },
  {
   "cell_type": "code",
   "execution_count": 9,
   "metadata": {},
   "outputs": [
    {
     "data": {
      "text/plain": [
       "1.0"
      ]
     },
     "execution_count": 9,
     "metadata": {},
     "output_type": "execute_result"
    }
   ],
   "source": [
    "0.5647840531561462+0.43521594684385384"
   ]
  },
  {
   "cell_type": "code",
   "execution_count": 21,
   "metadata": {},
   "outputs": [],
   "source": [
    "prob_test = exported_pipeline.predict_proba(testing_features)"
   ]
  },
  {
   "cell_type": "code",
   "execution_count": 23,
   "metadata": {},
   "outputs": [
    {
     "name": "stderr",
     "output_type": "stream",
     "text": [
      "/anaconda3/lib/python3.6/site-packages/matplotlib/axes/_axes.py:6462: UserWarning: The 'normed' kwarg is deprecated, and has been replaced by the 'density' kwarg.\n",
      "  warnings.warn(\"The 'normed' kwarg is deprecated, and has been \"\n"
     ]
    },
    {
     "data": {
      "text/plain": [
       "<matplotlib.axes._subplots.AxesSubplot at 0x1a1139bf98>"
      ]
     },
     "execution_count": 23,
     "metadata": {},
     "output_type": "execute_result"
    },
    {
     "data": {
      "image/png": "[encoded data removed]",
      "text/plain": [
       "<Figure size 432x288 with 1 Axes>"
      ]
     },
     "metadata": {},
     "output_type": "display_data"
    }
   ],
   "source": [
    "#visualize density plot of second columns (prob of having breast cancer ie phenotype = 1)\n",
    "second_column = prob_test[:,1]\n",
    "sns.distplot(second_column, hist=True, kde=True, \n",
    "             bins=int(180/5), color = 'darkblue', \n",
    "             hist_kws={'edgecolor':'black'},\n",
    "             kde_kws={'linewidth': 4})"
   ]
  },
  {
   "cell_type": "code",
   "execution_count": null,
   "metadata": {},
   "outputs": [],
   "source": [
    "\n",
    "second_column = prob_test[:,1]\n",
    "\n",
    "#then go to precision medicine dataset, grab ONE individual, \n",
    "# run pipeline i.e prob_test_of_one_patient_in_premeddataset = exported_pipeline.predict_proba(the one participant's 29 SNP)\n",
    "# see where that patient falls in the density plot\n",
    "\n",
    "# hopefully gives you probability gaussian distribution for training samples\n",
    "exported_pipeline.predict_proba(X_train) ## does this return a distribution or a numerical probability?\n",
    "# exported_pipeline.fit(X_train, y_train)\n",
    "\n",
    "test_sub_1 = X_test[0,]\n",
    "exported_pipeline.predict_proba(test_sub_1) # initial risk score\n",
    "\n",
    "# modify test_sub_1 mutation rs1234\n",
    "test_sub_1['rs1234']\n",
    "test_sub_1['rs1234'] = 2\n",
    "exported_pipeline.predict_proba(test_sub_1) # modified risk score\n",
    "\n",
    "# How to systematically do this for all 29 mutations? For loop? Are we visualizing every time?\n",
    "# Tentatively, change, call predict_proba, store in new array - but how are we systematically changing 0, 1, 2?\n"
   ]
  }
 ],
 "metadata": {
  "kernelspec": {
   "display_name": "Python 3",
   "language": "python",
   "name": "python3"
  },
  "language_info": {
   "codemirror_mode": {
    "name": "ipython",
    "version": 3
   },
   "file_extension": ".py",
   "mimetype": "text/x-python",
   "name": "python",
   "nbconvert_exporter": "python",
   "pygments_lexer": "ipython3",
   "version": "3.6.5"
  }
 },
 "nbformat": 4,
 "nbformat_minor": 2
}
