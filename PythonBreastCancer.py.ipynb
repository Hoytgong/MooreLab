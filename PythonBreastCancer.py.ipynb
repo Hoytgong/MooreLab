{
 "cells": [
  {
   "cell_type": "code",
   "execution_count": 6,
   "metadata": {},
   "outputs": [
    {
     "name": "stdout",
     "output_type": "stream",
     "text": [
      "0.579734219269103\n"
     ]
    },
    {
     "name": "stderr",
     "output_type": "stream",
     "text": [
      "/anaconda3/lib/python3.6/site-packages/sklearn/preprocessing/label.py:151: DeprecationWarning: The truth value of an empty array is ambiguous. Returning False, but in future this will result in an error. Use `array.size > 0` to check that an array is not empty.\n",
      "  if diff:\n",
      "/anaconda3/lib/python3.6/site-packages/sklearn/preprocessing/label.py:151: DeprecationWarning: The truth value of an empty array is ambiguous. Returning False, but in future this will result in an error. Use `array.size > 0` to check that an array is not empty.\n",
      "  if diff:\n"
     ]
    }
   ],
   "source": [
    "import numpy as np\n",
    "import pandas as pd\n",
    "import matplotlib.pyplot as plt\n",
    "import seaborn as sns\n",
    "from sklearn.model_selection import train_test_split\n",
    "from xgboost import XGBClassifier\n",
    "\n",
    "# NOTE: Make sure that the class is labeled 'target' in the data file\n",
    "test_val_data = pd.read_csv('~/Documents/MooreLab/test_validate_data.csv', sep=',', dtype=np.float64)\n",
    "features = test_val_data.drop('phenotype', axis=1).values\n",
    "training_features, testing_features, training_target, testing_target = \\\n",
    "            train_test_split(features, test_val_data['phenotype'].values, random_state=None)\n",
    "\n",
    "# Average CV score on the training set was:0.5524240156174044\n",
    "exported_pipeline = XGBClassifier(learning_rate=0.001, max_depth=10, min_child_weight=18, n_estimators=100, nthread=1, subsample=0.7000000000000001)\n",
    "exported_pipeline.fit(training_features, training_target)\n",
    "\n",
    "print(exported_pipeline.score(testing_features, testing_target)) # The score of our ML pipeline on test data (features & target)\n",
    "\n",
    "# Stores an array of all values of predicted testing_target (our Y, from predicting on our X, testing_features)\n",
    "yhat_test = exported_pipeline.predict(testing_features)          # Predicts the phenotype for each member of test_val_data"
   ]
  },
  {
   "cell_type": "code",
   "execution_count": 7,
   "metadata": {},
   "outputs": [],
   "source": [
    "# Sum of absolute value of yhat_test vs testing_target divided by length of testing_target vector\n",
    "test_err = sum(abs(yhat_test - testing_target))/len(testing_target)\n",
    "# test_err + yhat_test = 1.0         b/c sum of all the errors + original prediction = 100%"
   ]
  },
  {
   "cell_type": "code",
   "execution_count": 8,
   "metadata": {},
   "outputs": [
    {
     "data": {
      "text/plain": [
       "array([[0.5047196 , 0.4952804 ],\n",
       "       [0.49811584, 0.50188416],\n",
       "       [0.50568104, 0.49431893],\n",
       "       ...,\n",
       "       [0.54608154, 0.4539185 ],\n",
       "       [0.503747  , 0.49625304],\n",
       "       [0.50321114, 0.49678886]], dtype=float32)"
      ]
     },
     "execution_count": 8,
     "metadata": {},
     "output_type": "execute_result"
    }
   ],
   "source": [
    "# While exported_pipeline.predict stores the resulting 0 or 1 prediction,\n",
    "# exported_pipeline.predict_proba stores % chance that each testing_target is 0 or 1 as [(chance it's 0), (chance it's 1)]\n",
    "prob_test = exported_pipeline.predict_proba(testing_features)"
   ]
  },
  {
   "cell_type": "code",
   "execution_count": 12,
   "metadata": {},
   "outputs": [
    {
     "name": "stderr",
     "output_type": "stream",
     "text": [
      "/anaconda3/lib/python3.6/site-packages/matplotlib/axes/_axes.py:6462: UserWarning: The 'normed' kwarg is deprecated, and has been replaced by the 'density' kwarg.\n",
      "  warnings.warn(\"The 'normed' kwarg is deprecated, and has been \"\n"
     ]
    },
    {
     "data": {
      "text/plain": [
       "<matplotlib.axes._subplots.AxesSubplot at 0x1a15800f98>"
      ]
     },
     "execution_count": 12,
     "metadata": {},
     "output_type": "execute_result"
    },
    {
     "data": {
      "image/png": "[encoded data removed]",
      "text/plain": [
       "<Figure size 432x288 with 1 Axes>"
      ]
     },
     "metadata": {},
     "output_type": "display_data"
    }
   ],
   "source": [
    "#visualize density plot of second columns (prob of having breast cancer ie phenotype = 1)\n",
    "prob_test_phenotype_1 = prob_test[:,1]\n",
    "sns.distplot(prob_test_phenotype_1, hist=True, kde=True, \n",
    "             bins=int(180/5), color = 'darkblue', \n",
    "             hist_kws={'edgecolor':'black'},\n",
    "             kde_kws={'linewidth': 4})"
   ]
  },
  {
   "cell_type": "code",
   "execution_count": 19,
   "metadata": {},
   "outputs": [
    {
     "name": "stdout",
     "output_type": "stream",
     "text": [
      "0.58\n"
     ]
    },
    {
     "name": "stderr",
     "output_type": "stream",
     "text": [
      "/anaconda3/lib/python3.6/site-packages/sklearn/preprocessing/label.py:151: DeprecationWarning: The truth value of an empty array is ambiguous. Returning False, but in future this will result in an error. Use `array.size > 0` to check that an array is not empty.\n",
      "  if diff:\n"
     ]
    }
   ],
   "source": [
    "# Load precision medicine dataset\n",
    "\n",
    "premed_100data = pd.read_csv('~/Documents/MooreLab/premed.csv', sep=',', dtype=np.float64)\n",
    "features_pm = premed_100data.drop('phenotype', axis=1).values         # X variables of 100 pm participants\n",
    "test_pm = premed_100data['phenotype'].values                          # Y variables of 100 pm participants\n",
    "\n",
    "# So I use the same exported pipeline from earlier, which is already fit to test_validate_data\n",
    "print(exported_pipeline.score(features_pm, test_pm))                  # Found score using pipeline on pm_data\n",
    "prob_test_pmdata = exported_pipeline.predict_proba(features_pm)\n",
    "prob_test_pmdata_phenotype_1 = prob_test_pmdata[:,1]"
   ]
  },
  {
   "cell_type": "code",
   "execution_count": 20,
   "metadata": {},
   "outputs": [
    {
     "name": "stderr",
     "output_type": "stream",
     "text": [
      "/anaconda3/lib/python3.6/site-packages/matplotlib/axes/_axes.py:6462: UserWarning: The 'normed' kwarg is deprecated, and has been replaced by the 'density' kwarg.\n",
      "  warnings.warn(\"The 'normed' kwarg is deprecated, and has been \"\n"
     ]
    },
    {
     "data": {
      "text/plain": [
       "<matplotlib.axes._subplots.AxesSubplot at 0x1a157e8898>"
      ]
     },
     "execution_count": 20,
     "metadata": {},
     "output_type": "execute_result"
    },
    {
     "data": {
      "image/png": "[encoded data removed]",
      "text/plain": [
       "<Figure size 432x288 with 1 Axes>"
      ]
     },
     "metadata": {},
     "output_type": "display_data"
    }
   ],
   "source": [
    "sns.distplot(prob_test_pmdata_phenotype_1, hist=True, kde=True, \n",
    "             bins=int(180/5), color = 'darkblue', \n",
    "             hist_kws={'edgecolor':'black'},\n",
    "             kde_kws={'linewidth': 4})"
   ]
  },
  {
   "cell_type": "code",
   "execution_count": null,
   "metadata": {},
   "outputs": [],
   "source": [
    "#then go to precision medicine dataset, grab ONE individual, \n",
    "# run pipeline i.e prob_test_of_one_patient_in_premeddataset = exported_pipeline.predict_proba(the one participant's 29 SNP)\n",
    "# see where that patient falls in the density plot\n",
    "\n",
    "features_pm\n",
    "\n",
    "pmtest_sub_1 = features_pm[0,]\n",
    "exported_pipeline.predict_proba(pmtest_sub_1) # initial risk score\n",
    "\n",
    "# modify pmtest_sub_1 mutation rs1234 (i.e. the first column)\n",
    "pmtest_sub_1['rs1234']\n",
    "pmtest_sub_1['rs1234'] = 2\n",
    "exported_pipeline.predict_proba(pmtest_sub_1) # modified risk score\n",
    "\n",
    "\n",
    "# How to systematically do this for all 29 mutations? For loop? Are we visualizing every time?\n",
    "# Tentatively, change, call predict_proba, store in new array - but how are we systematically changing 0, 1, 2?\n"
   ]
  }
 ],
 "metadata": {
  "kernelspec": {
   "display_name": "Python 3",
   "language": "python",
   "name": "python3"
  },
  "language_info": {
   "codemirror_mode": {
    "name": "ipython",
    "version": 3
   },
   "file_extension": ".py",
   "mimetype": "text/x-python",
   "name": "python",
   "nbconvert_exporter": "python",
   "pygments_lexer": "ipython3",
   "version": "3.6.5"
  }
 },
 "nbformat": 4,
 "nbformat_minor": 2
}
