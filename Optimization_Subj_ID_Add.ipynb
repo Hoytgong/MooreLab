{
 "cells": [
  {
   "cell_type": "markdown",
   "metadata": {},
   "source": [
    "## Mainly for patient_ID addition in the Dash Application"
   ]
  },
  {
   "cell_type": "code",
   "execution_count": 1,
   "metadata": {},
   "outputs": [],
   "source": [
    "import pandas as pd\n",
    "import numpy as np\n",
    "import random\n",
    "\n",
    "# Read in CSV\n",
    "df = pd.read_csv('breastCancer29.csv') \n",
    "\n",
    "# Generate random indices of patientID\n",
    "num_participants = df.shape[0]\n",
    "\n",
    "random.seed(42)\n",
    "num_list = random.sample(range(1,100000), num_participants) \n",
    "extra_col = pd.Series(num_list)\n",
    "\n",
    "# Insert indicies column into existing df\n",
    "df.insert(0,'patient_id', extra_col.values)"
   ]
  },
  {
   "cell_type": "code",
   "execution_count": 2,
   "metadata": {
    "scrolled": true
   },
   "outputs": [],
   "source": [
    "# Write out to csv\n",
    "df.to_csv('finalBCdata.csv', index = False)"
   ]
  }
 ],
 "metadata": {
  "kernelspec": {
   "display_name": "Python 3",
   "language": "python",
   "name": "python3"
  },
  "language_info": {
   "codemirror_mode": {
    "name": "ipython",
    "version": 3
   },
   "file_extension": ".py",
   "mimetype": "text/x-python",
   "name": "python",
   "nbconvert_exporter": "python",
   "pygments_lexer": "ipython3",
   "version": "3.7.1"
  }
 },
 "nbformat": 4,
 "nbformat_minor": 2
}
